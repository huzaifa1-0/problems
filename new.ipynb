{
 "cells": [
  {
   "cell_type": "code",
   "id": "initial_id",
   "metadata": {
    "collapsed": true,
    "jupyter": {
     "is_executing": true
    }
   },
   "source": [
    "import numpy as np\n",
    "\n",
    "# Create arrays\n",
    "arr1 = np.array([1, 2, 3, 4, 5])\n",
    "arr2 = np.array([[1, 2, 3], [4, 5, 6]])\n",
    "\n",
    "# Access elements\n",
    "print(\"Element at index 2:\", arr1[2])\n",
    "print(\"2nd element on 1st row:\", arr2[0, 1])\n",
    "\n",
    "# Array slicing\n",
    "print(\"Slicing:\", arr1[1:4])\n",
    "\n",
    "# Array shape\n",
    "print(\"Shape of arr2:\", arr2.shape)\n",
    "\n",
    "# Join arrays\n",
    "joined = np.concatenate((arr1, [6, 7, 8]))\n",
    "print(\"Joined array:\", joined)\n",
    "\n",
    "# Split array\n",
    "splits = np.array_split(arr1, 3)\n",
    "print(\"Split arrays:\", splits)\n",
    "\n",
    "# Sorting\n",
    "unsorted = np.array([3, 1, 2])\n",
    "print(\"Sorted:\", np.sort(unsorted))\n"
   ],
   "outputs": [],
   "execution_count": null
  },
  {
   "metadata": {},
   "cell_type": "code",
   "outputs": [],
   "execution_count": null,
   "source": "",
   "id": "72ccb54ff754bcb"
  }
 ],
 "metadata": {
  "kernelspec": {
   "display_name": "Python 3",
   "language": "python",
   "name": "python3"
  },
  "language_info": {
   "codemirror_mode": {
    "name": "ipython",
    "version": 2
   },
   "file_extension": ".py",
   "mimetype": "text/x-python",
   "name": "python",
   "nbconvert_exporter": "python",
   "pygments_lexer": "ipython2",
   "version": "2.7.6"
  }
 },
 "nbformat": 4,
 "nbformat_minor": 5
}
